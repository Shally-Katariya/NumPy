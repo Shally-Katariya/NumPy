{
 "cells": [
  {
   "cell_type": "code",
   "execution_count": 1,
   "id": "9f972613-9cf3-48a4-83af-d1130f840e33",
   "metadata": {},
   "outputs": [],
   "source": [
    "import numpy as np"
   ]
  },
  {
   "cell_type": "code",
   "execution_count": 11,
   "id": "528f6d48-d5c3-4e5c-ae73-5a9603af9683",
   "metadata": {},
   "outputs": [],
   "source": [
    "myarr=np.array([[2,3,45,5,5,4,]],np.int8)"
   ]
  },
  {
   "cell_type": "code",
   "execution_count": 14,
   "id": "6983eb21-50bd-4840-9669-b53734022f5a",
   "metadata": {},
   "outputs": [
    {
     "data": {
      "text/plain": [
       "45"
      ]
     },
     "execution_count": 14,
     "metadata": {},
     "output_type": "execute_result"
    }
   ],
   "source": [
    "myarr[0,2]"
   ]
  },
  {
   "cell_type": "code",
   "execution_count": 15,
   "id": "b24b6519-b500-4bbd-ab10-d9c92c5b6d19",
   "metadata": {},
   "outputs": [],
   "source": [
    "myarr[0,2]=99"
   ]
  },
  {
   "cell_type": "code",
   "execution_count": 16,
   "id": "6faeba8d-61d1-4ca6-94f5-4149b47d86f4",
   "metadata": {},
   "outputs": [
    {
     "data": {
      "text/plain": [
       "array([[ 2,  3, 99,  5,  5,  4]], dtype=int8)"
      ]
     },
     "execution_count": 16,
     "metadata": {},
     "output_type": "execute_result"
    }
   ],
   "source": [
    "myarr"
   ]
  },
  {
   "cell_type": "code",
   "execution_count": 17,
   "id": "0dac26ae-528d-4509-86ca-e49d115e6b65",
   "metadata": {},
   "outputs": [],
   "source": [
    "liar=np.array([[1,2,3],[43,23,34],[21,33,43]])"
   ]
  },
  {
   "cell_type": "code",
   "execution_count": 18,
   "id": "1e373cbb-da40-4464-824a-fed0caaf3d0a",
   "metadata": {},
   "outputs": [
    {
     "data": {
      "text/plain": [
       "array([[ 1,  2,  3],\n",
       "       [43, 23, 34],\n",
       "       [21, 33, 43]])"
      ]
     },
     "execution_count": 18,
     "metadata": {},
     "output_type": "execute_result"
    }
   ],
   "source": [
    "liar"
   ]
  },
  {
   "cell_type": "code",
   "execution_count": 19,
   "id": "868d9f82-89f7-428a-86b1-a44b7965311f",
   "metadata": {},
   "outputs": [
    {
     "data": {
      "text/plain": [
       "(3, 3)"
      ]
     },
     "execution_count": 19,
     "metadata": {},
     "output_type": "execute_result"
    }
   ],
   "source": [
    "liar.shape"
   ]
  },
  {
   "cell_type": "code",
   "execution_count": 20,
   "id": "8fe9f9f7-5c44-4c03-a3d4-108eafdd7fcf",
   "metadata": {},
   "outputs": [
    {
     "data": {
      "text/plain": [
       "9"
      ]
     },
     "execution_count": 20,
     "metadata": {},
     "output_type": "execute_result"
    }
   ],
   "source": [
    "liar.size"
   ]
  },
  {
   "cell_type": "code",
   "execution_count": 21,
   "id": "310716db-c387-4bec-98e6-8ba2a62422fe",
   "metadata": {},
   "outputs": [
    {
     "data": {
      "text/plain": [
       "dtype('int32')"
      ]
     },
     "execution_count": 21,
     "metadata": {},
     "output_type": "execute_result"
    }
   ],
   "source": [
    "liar.dtype"
   ]
  },
  {
   "cell_type": "code",
   "execution_count": 22,
   "id": "55564493-c628-4b7f-b13a-be4a8532e1bc",
   "metadata": {},
   "outputs": [],
   "source": [
    "dict=np.array({23,44,55})"
   ]
  },
  {
   "cell_type": "code",
   "execution_count": 23,
   "id": "bfb970c0-2f8d-4fd9-b714-2fc40e5b26a5",
   "metadata": {},
   "outputs": [
    {
     "data": {
      "text/plain": [
       "array({44, 23, 55}, dtype=object)"
      ]
     },
     "execution_count": 23,
     "metadata": {},
     "output_type": "execute_result"
    }
   ],
   "source": [
    "dict"
   ]
  },
  {
   "cell_type": "code",
   "execution_count": 24,
   "id": "d81c73f3-f7cc-4d92-b659-a8e99aac38d9",
   "metadata": {},
   "outputs": [],
   "source": [
    "zerps=np.zeros((2,5))"
   ]
  },
  {
   "cell_type": "code",
   "execution_count": 25,
   "id": "31d99fda-65cf-49da-adbc-a3cdf74b47ff",
   "metadata": {},
   "outputs": [
    {
     "data": {
      "text/plain": [
       "array([[0., 0., 0., 0., 0.],\n",
       "       [0., 0., 0., 0., 0.]])"
      ]
     },
     "execution_count": 25,
     "metadata": {},
     "output_type": "execute_result"
    }
   ],
   "source": [
    "zerps"
   ]
  },
  {
   "cell_type": "code",
   "execution_count": 29,
   "id": "fac80ed9-8d20-4e70-a41f-1a1e35058ebc",
   "metadata": {},
   "outputs": [],
   "source": [
    "rng=np.arange(18)"
   ]
  },
  {
   "cell_type": "code",
   "execution_count": 30,
   "id": "e31295b9-e014-42ef-b48c-8cf58ca1bfab",
   "metadata": {},
   "outputs": [
    {
     "data": {
      "text/plain": [
       "array([ 0,  1,  2,  3,  4,  5,  6,  7,  8,  9, 10, 11, 12, 13, 14, 15, 16,\n",
       "       17])"
      ]
     },
     "execution_count": 30,
     "metadata": {},
     "output_type": "execute_result"
    }
   ],
   "source": [
    "rng"
   ]
  },
  {
   "cell_type": "code",
   "execution_count": 31,
   "id": "e667ddbf-eb65-4f7b-a892-6582d02a2f04",
   "metadata": {},
   "outputs": [
    {
     "data": {
      "text/plain": [
       "array([[ 0,  1,  2,  3,  4,  5],\n",
       "       [ 6,  7,  8,  9, 10, 11],\n",
       "       [12, 13, 14, 15, 16, 17]])"
      ]
     },
     "execution_count": 31,
     "metadata": {},
     "output_type": "execute_result"
    }
   ],
   "source": [
    "rng.reshape(3,6)"
   ]
  },
  {
   "cell_type": "code",
   "execution_count": 43,
   "id": "241387ac-b3db-4229-9079-821395a54645",
   "metadata": {},
   "outputs": [
    {
     "data": {
      "text/plain": [
       "153"
      ]
     },
     "execution_count": 43,
     "metadata": {},
     "output_type": "execute_result"
    }
   ],
   "source": [
    "rng.sum(axis=0)"
   ]
  },
  {
   "cell_type": "code",
   "execution_count": 32,
   "id": "adf11fe4-6f67-4934-b9a1-1b519c87e5b3",
   "metadata": {},
   "outputs": [
    {
     "data": {
      "text/plain": [
       "array([ 0,  1,  2,  3,  4,  5,  6,  7,  8,  9, 10, 11, 12, 13, 14, 15, 16,\n",
       "       17])"
      ]
     },
     "execution_count": 32,
     "metadata": {},
     "output_type": "execute_result"
    }
   ],
   "source": [
    "rng.ravel()"
   ]
  },
  {
   "cell_type": "code",
   "execution_count": 33,
   "id": "707b210b-3a2e-431b-96ef-45ec9d84c783",
   "metadata": {},
   "outputs": [],
   "source": [
    "lspace=np.linspace(1,5,4)"
   ]
  },
  {
   "cell_type": "code",
   "execution_count": 34,
   "id": "478ee355-bf66-4da7-9f76-5f6ecdd430c3",
   "metadata": {},
   "outputs": [
    {
     "data": {
      "text/plain": [
       "array([1.        , 2.33333333, 3.66666667, 5.        ])"
      ]
     },
     "execution_count": 34,
     "metadata": {},
     "output_type": "execute_result"
    }
   ],
   "source": [
    "lspace"
   ]
  },
  {
   "cell_type": "code",
   "execution_count": 35,
   "id": "b4ce370e-d971-4756-9b36-80fd68eb09fd",
   "metadata": {},
   "outputs": [],
   "source": [
    "emp=np.empty((4,6))"
   ]
  },
  {
   "cell_type": "code",
   "execution_count": 36,
   "id": "9c6d907f-59fb-45b6-b7c3-087a504003d3",
   "metadata": {},
   "outputs": [
    {
     "data": {
      "text/plain": [
       "array([[9.77997360e-312, 7.60861095e-322, 0.00000000e+000,\n",
       "        0.00000000e+000, 7.56587583e-307, 1.15998412e-028],\n",
       "       [4.31603868e-080, 1.94919985e-153, 1.35717430e+131,\n",
       "        1.05132385e-153, 1.05161519e-153, 1.05190653e-153],\n",
       "       [1.05219787e-153, 1.05248921e-153, 1.05133352e-153,\n",
       "        1.05162486e-153, 1.05191620e-153, 6.01391519e-154],\n",
       "       [1.94373161e-109, 4.90900643e+252, 1.94918511e-153,\n",
       "        6.32672800e+180, 4.74483502e+170, 1.97229332e-062]])"
      ]
     },
     "execution_count": 36,
     "metadata": {},
     "output_type": "execute_result"
    }
   ],
   "source": [
    "emp"
   ]
  },
  {
   "cell_type": "code",
   "execution_count": 38,
   "id": "5fcb3732-6048-48cd-a065-388e2cb16246",
   "metadata": {},
   "outputs": [],
   "source": [
    "emp_like=np.empty_like(lspace)"
   ]
  },
  {
   "cell_type": "code",
   "execution_count": 39,
   "id": "cd9c3d65-cbf4-4e96-a3a1-a377f83429b3",
   "metadata": {},
   "outputs": [
    {
     "data": {
      "text/plain": [
       "array([1.        , 2.33333333, 3.66666667, 5.        ])"
      ]
     },
     "execution_count": 39,
     "metadata": {},
     "output_type": "execute_result"
    }
   ],
   "source": [
    "emp_like"
   ]
  },
  {
   "cell_type": "code",
   "execution_count": 40,
   "id": "e7e37ca3-82ef-4e62-8331-67e1ff9c136a",
   "metadata": {},
   "outputs": [],
   "source": [
    "ide=np.identity(45)"
   ]
  },
  {
   "cell_type": "code",
   "execution_count": 41,
   "id": "0c486b66-e26b-4eb2-b173-88bea5f37552",
   "metadata": {},
   "outputs": [
    {
     "data": {
      "text/plain": [
       "array([[1., 0., 0., ..., 0., 0., 0.],\n",
       "       [0., 1., 0., ..., 0., 0., 0.],\n",
       "       [0., 0., 1., ..., 0., 0., 0.],\n",
       "       ...,\n",
       "       [0., 0., 0., ..., 1., 0., 0.],\n",
       "       [0., 0., 0., ..., 0., 1., 0.],\n",
       "       [0., 0., 0., ..., 0., 0., 1.]])"
      ]
     },
     "execution_count": 41,
     "metadata": {},
     "output_type": "execute_result"
    }
   ],
   "source": [
    "ide"
   ]
  },
  {
   "cell_type": "code",
   "execution_count": 42,
   "id": "9966ba11-29b7-4dbc-9035-c9b338eb232e",
   "metadata": {},
   "outputs": [
    {
     "data": {
      "text/plain": [
       "153"
      ]
     },
     "execution_count": 42,
     "metadata": {},
     "output_type": "execute_result"
    }
   ],
   "source": [
    "rng.sum(axis=0)"
   ]
  },
  {
   "cell_type": "code",
   "execution_count": 44,
   "id": "f13599ce-2d96-43f3-8f2a-04ef06f064bc",
   "metadata": {},
   "outputs": [
    {
     "data": {
      "text/plain": [
       "array([65, 58, 80])"
      ]
     },
     "execution_count": 44,
     "metadata": {},
     "output_type": "execute_result"
    }
   ],
   "source": [
    "liar.sum(axis=0)"
   ]
  },
  {
   "cell_type": "code",
   "execution_count": 46,
   "id": "3b5a9fe0-2da5-4ee8-97f9-722f671ba758",
   "metadata": {},
   "outputs": [
    {
     "data": {
      "text/plain": [
       "array([  6, 100,  97])"
      ]
     },
     "execution_count": 46,
     "metadata": {},
     "output_type": "execute_result"
    }
   ],
   "source": [
    "liar.sum(axis=1)"
   ]
  },
  {
   "cell_type": "code",
   "execution_count": 47,
   "id": "77cc5970-b8ef-4e15-999b-362a910c5bfc",
   "metadata": {},
   "outputs": [
    {
     "data": {
      "text/plain": [
       "array([[ 1, 43, 21],\n",
       "       [ 2, 23, 33],\n",
       "       [ 3, 34, 43]])"
      ]
     },
     "execution_count": 47,
     "metadata": {},
     "output_type": "execute_result"
    }
   ],
   "source": [
    "liar.T"
   ]
  },
  {
   "cell_type": "code",
   "execution_count": 49,
   "id": "7cd6dbdf-079d-482e-8fe6-cedb351099f2",
   "metadata": {},
   "outputs": [
    {
     "data": {
      "text/plain": [
       "<numpy.flatiter at 0x1cce0fb2e40>"
      ]
     },
     "execution_count": 49,
     "metadata": {},
     "output_type": "execute_result"
    }
   ],
   "source": [
    "liar.flat"
   ]
  },
  {
   "cell_type": "code",
   "execution_count": 53,
   "id": "2f213b72-4234-4e97-a113-1badddad8b6b",
   "metadata": {},
   "outputs": [
    {
     "name": "stdout",
     "output_type": "stream",
     "text": [
      "1\n",
      "2\n",
      "3\n",
      "43\n",
      "23\n",
      "34\n",
      "21\n",
      "33\n",
      "43\n"
     ]
    }
   ],
   "source": [
    "for item in liar.flat:\n",
    "    print(item)"
   ]
  },
  {
   "cell_type": "code",
   "execution_count": 54,
   "id": "0d62006d-0191-4e86-a22a-f17ecc5f3e61",
   "metadata": {},
   "outputs": [
    {
     "data": {
      "text/plain": [
       "2"
      ]
     },
     "execution_count": 54,
     "metadata": {},
     "output_type": "execute_result"
    }
   ],
   "source": [
    "liar.ndim"
   ]
  },
  {
   "cell_type": "code",
   "execution_count": 56,
   "id": "9ee0e49a-ed17-4ffa-af1f-2613fea1f798",
   "metadata": {},
   "outputs": [
    {
     "data": {
      "text/plain": [
       "array([[0, 1, 2],\n",
       "       [1, 2, 0],\n",
       "       [0, 1, 2]], dtype=int64)"
      ]
     },
     "execution_count": 56,
     "metadata": {},
     "output_type": "execute_result"
    }
   ],
   "source": [
    "liar.argsort()"
   ]
  },
  {
   "cell_type": "code",
   "execution_count": 59,
   "id": "a3c274d1-5dd3-41ad-ba8f-fd3f967cfa36",
   "metadata": {},
   "outputs": [
    {
     "data": {
      "text/plain": [
       "9"
      ]
     },
     "execution_count": 59,
     "metadata": {},
     "output_type": "execute_result"
    }
   ],
   "source": [
    "liar.size"
   ]
  },
  {
   "cell_type": "code",
   "execution_count": 60,
   "id": "2bb41d79-ba77-4319-a817-23513f8269fe",
   "metadata": {},
   "outputs": [
    {
     "data": {
      "text/plain": [
       "36"
      ]
     },
     "execution_count": 60,
     "metadata": {},
     "output_type": "execute_result"
    }
   ],
   "source": [
    "liar.nbytes"
   ]
  },
  {
   "cell_type": "code",
   "execution_count": 62,
   "id": "a00a36ad-9b90-4f50-a755-3cd90dedecd4",
   "metadata": {},
   "outputs": [
    {
     "data": {
      "text/plain": [
       "3"
      ]
     },
     "execution_count": 62,
     "metadata": {},
     "output_type": "execute_result"
    }
   ],
   "source": [
    "liar.argmax()"
   ]
  },
  {
   "cell_type": "code",
   "execution_count": 63,
   "id": "b3f5f50a-2880-40be-bfd9-151eb4a62a76",
   "metadata": {},
   "outputs": [
    {
     "data": {
      "text/plain": [
       "0"
      ]
     },
     "execution_count": 63,
     "metadata": {},
     "output_type": "execute_result"
    }
   ],
   "source": [
    "liar.argmin()"
   ]
  },
  {
   "cell_type": "code",
   "execution_count": 64,
   "id": "add8ba11-44a2-4dd2-8db7-35d428b30df0",
   "metadata": {},
   "outputs": [
    {
     "data": {
      "text/plain": [
       "array([ 0,  1,  2,  3,  4,  5,  6,  7,  8,  9, 10, 11, 12, 13, 14, 15, 16,\n",
       "       17], dtype=int64)"
      ]
     },
     "execution_count": 64,
     "metadata": {},
     "output_type": "execute_result"
    }
   ],
   "source": [
    "rng.argsort()"
   ]
  },
  {
   "cell_type": "code",
   "execution_count": 65,
   "id": "5e6c9ac6-c13e-4efb-9d3e-0af57ef74c46",
   "metadata": {},
   "outputs": [
    {
     "data": {
      "text/plain": [
       "array([[0, 1, 2],\n",
       "       [1, 2, 0],\n",
       "       [0, 1, 2]], dtype=int64)"
      ]
     },
     "execution_count": 65,
     "metadata": {},
     "output_type": "execute_result"
    }
   ],
   "source": [
    "liar.argsort()"
   ]
  },
  {
   "cell_type": "code",
   "execution_count": 66,
   "id": "b579e14c-ea03-48bb-adad-e8f7d862eecd",
   "metadata": {},
   "outputs": [
    {
     "data": {
      "text/plain": [
       "array([0], dtype=int64)"
      ]
     },
     "execution_count": 66,
     "metadata": {},
     "output_type": "execute_result"
    }
   ],
   "source": [
    "dict.argsort()"
   ]
  },
  {
   "cell_type": "code",
   "execution_count": 67,
   "id": "7868722a-f0a1-43ea-982a-4c97dadb97dc",
   "metadata": {},
   "outputs": [
    {
     "data": {
      "text/plain": [
       "array([[0, 1, 5, 3, 4, 2]], dtype=int64)"
      ]
     },
     "execution_count": 67,
     "metadata": {},
     "output_type": "execute_result"
    }
   ],
   "source": [
    "myarr.argsort()"
   ]
  },
  {
   "cell_type": "code",
   "execution_count": null,
   "id": "ff24caf8-f111-4f20-a49e-2d83a64499e9",
   "metadata": {},
   "outputs": [],
   "source": []
  }
 ],
 "metadata": {
  "kernelspec": {
   "display_name": "Python 3 (ipykernel)",
   "language": "python",
   "name": "python3"
  },
  "language_info": {
   "codemirror_mode": {
    "name": "ipython",
    "version": 3
   },
   "file_extension": ".py",
   "mimetype": "text/x-python",
   "name": "python",
   "nbconvert_exporter": "python",
   "pygments_lexer": "ipython3",
   "version": "3.12.7"
  }
 },
 "nbformat": 4,
 "nbformat_minor": 5
}
